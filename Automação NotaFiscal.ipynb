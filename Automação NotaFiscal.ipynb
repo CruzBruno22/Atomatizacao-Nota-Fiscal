{
 "cells": [
  {
   "cell_type": "code",
   "execution_count": 1,
   "metadata": {},
   "outputs": [
    {
     "name": "stdout",
     "output_type": "stream",
     "text": [
      "Quantos XML temos hoje?127\n"
     ]
    },
    {
     "name": "stderr",
     "output_type": "stream",
     "text": [
      "ERROR:root:Internal Python error in the inspect module.\n",
      "Below is the traceback from this internal error.\n",
      "\n",
      "\n",
      "KeyboardInterrupt\n",
      "\n"
     ]
    }
   ],
   "source": [
    "# Importações Bibliotecas\n",
    "\n",
    "import pyautogui\n",
    "import time\n",
    "\n",
    "# Perguntar quantos XML no dia\n",
    "\n",
    "Nxml = 0\n",
    "TotalXML = int (input (\"Quantos XML temos hoje?\"))\n",
    "pyautogui.PAUSE = 1 # Tempo de delay Global(pode ser alterado)\n",
    "\n",
    "# Entrar no site da Fazenda\n",
    "\n",
    "pyautogui.hotkey (\"ctrl\",\"t\") # Abrir uma nova aba \n",
    "pyautogui.click (x=638, y=85)\n",
    "pyautogui.write (\"https://www.nfe.fazenda.gov.br\")\n",
    "pyautogui.press (\"enter\")\n",
    "pyautogui.moveTo (x=387, y=396)\n",
    "pyautogui.click (x=336, y=435)\n",
    "\n",
    "#Entrar No Word Lista de xml\n",
    "\n",
    "pyautogui.hotkey (\"win\", \"s\")\n",
    "pyautogui.write (\"XML\")\n",
    "pyautogui.press (\"enter\")\n",
    "time.sleep (6)\n",
    "\n",
    "# Download Primeiro XML ( Certificado )\n",
    "\n",
    "pyautogui.click (x=430, y=424) \n",
    "pyautogui.hotkey (\"ctrl\", \"x\") # Recortar o Primeiro XML do Word\n",
    "pyautogui.keyDown (\"alt\") # Presionar tecla Alt\n",
    "pyautogui.press (\"tab\") # Clicar TAB\n",
    "pyautogui.keyUp (\"alt\") # Soltar tecla Alt\n",
    "pyautogui.click (x=569, y=657)\n",
    "pyautogui.hotkey (\"ctrl\", \"v\") # Colar XML\n",
    "pyautogui.click (x=585, y=741) # Clicar em Captcha\n",
    "pyautogui.click (x=738, y=838) # Clicar em Continuar\n",
    "pyautogui.click (x=753, y=605) # Clicar em Download 1\n",
    "pyautogui.press (\"enter\") # Confirmar Download\n",
    "pyautogui.click (x=498, y=606) # Clicar em Download 2\n",
    "pyautogui.press (\"enter\") # Confirmar Download\n",
    "pyautogui.click (x=611, y=1043) # Clicar no PopUp\n",
    "pyautogui.press (\"tab\")\n",
    "pyautogui.press (\"enter\")\n",
    "pyautogui.moveTo (x=387, y=396)\n",
    "pyautogui.click (x=336, y=435)\n",
    "\n",
    "Nxml = Nxml + 1\n",
    "\n",
    "# Loop para demais Downloads\n",
    "\n",
    "while Nxml < TotalXML: \n",
    "    pyautogui.keyDown (\"alt\") # Presionar tecla Alt\n",
    "    pyautogui.press (\"tab\") # Clicar TAB\n",
    "    pyautogui.keyUp (\"alt\") # Soltar tecla Alt\n",
    "    pyautogui.click (x=430, y=424) \n",
    "    pyautogui.hotkey (\"ctrl\", \"x\") # Recortar o Primeiro XML do Word\n",
    "    pyautogui.keyDown (\"alt\") # Presionar tecla Alt\n",
    "    pyautogui.press (\"tab\") # Clicar TAB\n",
    "    pyautogui.keyUp (\"alt\") # Soltar tecla Alt\n",
    "    pyautogui.click (x=569, y=657)\n",
    "    pyautogui.hotkey (\"ctrl\", \"v\") # Colar XML\n",
    "    pyautogui.click (x=585, y=741) # Clicar em Captcha\n",
    "    pyautogui.click (x=738, y=838) # Clicar em Continuar\n",
    "    pyautogui.click (x=893, y=606) # Clicar em Download 1\n",
    "    pyautogui.press (\"enter\") # Confirmar Download\n",
    "    pyautogui.click (x=677, y=608) # Clicar em Download 2\n",
    "    pyautogui.press (\"enter\") # Confirmar Download\n",
    "    pyautogui.moveTo (x=387, y=396)#prepara o proximo\n",
    "    pyautogui.click (x=336, y=435)\n",
    "    Nxml = Nxml + 1\n",
    "    \n",
    "# Automatizar Email\n",
    "\n",
    "pyautogui.PAUSE = 1\n",
    "pyautogui.hotkey (\"win\", \"e\") # Explorar Pastas\n",
    "pyautogui.press (\"tab\")\n",
    "pyautogui.press (\"tab\")\n",
    "pyautogui.press (\"tab\")\n",
    "pyautogui.press (\"tab\")\n",
    "pyautogui.press (\"tab\")\n",
    "pyautogui.press (\"down\", presses = 2) # Ir para pasta Downloads\n",
    "pyautogui.press (\"enter\")\n",
    "pyautogui.hotkey (\"Ctrl\", \"a\") # Selecionar Tudo\n",
    "pyautogui.hotkey (\"Ctrl\", \"x\") # Recortar Tudo\n",
    "pyautogui.press (\"win\") \n",
    "pyautogui.write (\"outlook\")\n",
    "pyautogui.press (\"enter\")\n",
    "time.sleep (11)\n",
    "pyautogui.hotkey (\"Ctrl\", \"Shift\" , \"m\") # Abrir um novo Email\n",
    "time.sleep (2)\n",
    "pyautogui.write (\"Trevo Recebimentofiscal (GS/OSP22-LA) <Recebimentofiscal.Trevo@br.bosch.com>\")\n",
    "pyautogui.press (\"tab\")\n",
    "pyautogui.press (\"tab\")\n",
    "pyautogui.press (\"tab\")\n",
    "pyautogui.press (\"tab\")\n",
    "pyautogui.write (\"xml\") #Assunto\n",
    "pyautogui.press (\"tab\")\n",
    "pyautogui.hotkey (\"Ctrl\", \"v\") # Colar Tudo (XML)\n",
    "time.sleep (15)\n",
    "pyautogui.hotkey ('ctrl', 'enter') # Enviar o Email\n",
    "time.sleep (15)  \n",
    "pyautogui.click (x=1083, y=738) # Clicar em NO para enviar\n",
    "time.sleep (15)\n",
    "\n",
    "# Alerta sobre finalização\n",
    "\n",
    "pyautogui.alert (\"FINALIZADO\", \"Automatização XML\", \"Confirmar\")\n",
    "\n"
   ]
  },
  {
   "cell_type": "code",
   "execution_count": 13,
   "metadata": {},
   "outputs": [
    {
     "data": {
      "text/plain": [
       "Point(x=1083, y=738)"
      ]
     },
     "execution_count": 13,
     "metadata": {},
     "output_type": "execute_result"
    }
   ],
   "source": [
    "time.sleep (10)\n",
    "pyautogui.position ()"
   ]
  },
  {
   "cell_type": "code",
   "execution_count": 5,
   "metadata": {},
   "outputs": [],
   "source": [
    "import pyautogui \n",
    "import cv2 \n",
    "import numpy as np"
   ]
  },
  {
   "cell_type": "code",
   "execution_count": null,
   "metadata": {},
   "outputs": [],
   "source": []
  }
 ],
 "metadata": {
  "kernelspec": {
   "display_name": "Python 3",
   "language": "python",
   "name": "python3"
  },
  "language_info": {
   "codemirror_mode": {
    "name": "ipython",
    "version": 3
   },
   "file_extension": ".py",
   "mimetype": "text/x-python",
   "name": "python",
   "nbconvert_exporter": "python",
   "pygments_lexer": "ipython3",
   "version": "3.8.3"
  }
 },
 "nbformat": 4,
 "nbformat_minor": 4
}
